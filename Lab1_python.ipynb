{
  "cells": [
    {
      "cell_type": "markdown",
      "metadata": {
        "id": "view-in-github",
        "colab_type": "text"
      },
      "source": [
        "<a href=\"https://colab.research.google.com/github/anjaleeDS/CS06/blob/main/Lab1_python.ipynb\" target=\"_parent\"><img src=\"https://colab.research.google.com/assets/colab-badge.svg\" alt=\"Open In Colab\"/></a>"
      ]
    },
    {
      "cell_type": "markdown",
      "metadata": {
        "id": "aur9-gvv79Nf"
      },
      "source": [
        "#Python 101"
      ]
    },
    {
      "cell_type": "markdown",
      "metadata": {
        "id": "cDxCZbEC8BoU"
      },
      "source": [
        "Python, was developed by Guido van Rossum and released around 1991.\n",
        "\n",
        "It's variables can represent many things:\n",
        "\n",
        "1. Number and words\n",
        "2. Excel sheet formatted data (pandas)\n",
        "3. Functions and Objects (python is OOP)\n"
      ]
    },
    {
      "cell_type": "code",
      "execution_count": null,
      "metadata": {
        "colab": {
          "base_uri": "https://localhost:8080/"
        },
        "id": "d0CTZ5uP8HEc",
        "outputId": "ba0f70eb-dd8f-4a2f-b572-b83b4a5ec228"
      },
      "outputs": [
        {
          "output_type": "execute_result",
          "data": {
            "text/plain": [
              "32"
            ]
          },
          "metadata": {},
          "execution_count": 1
        }
      ],
      "source": [
        "# numerics\n",
        "\n",
        "a = 3\n",
        "b = 29\n",
        "c = a+b\n",
        "c"
      ]
    },
    {
      "cell_type": "code",
      "execution_count": null,
      "metadata": {
        "colab": {
          "base_uri": "https://localhost:8080/",
          "height": 35
        },
        "id": "ijZ24uqu7d4C",
        "outputId": "22f9727d-96a9-4dd0-f11f-53c22f538260"
      },
      "outputs": [
        {
          "output_type": "execute_result",
          "data": {
            "text/plain": [
              "'Gasline is cheap'"
            ],
            "application/vnd.google.colaboratory.intrinsic+json": {
              "type": "string"
            }
          },
          "metadata": {},
          "execution_count": 2
        }
      ],
      "source": [
        "# words\n",
        "\n",
        "x = \"Gasline is \"\n",
        "y = \"cheap\"\n",
        "x+y"
      ]
    },
    {
      "cell_type": "code",
      "execution_count": null,
      "metadata": {
        "colab": {
          "base_uri": "https://localhost:8080/"
        },
        "id": "oqcCBiAN8hPi",
        "outputId": "d9cda789-1f4b-4375-b138-600fe4755045"
      },
      "outputs": [
        {
          "output_type": "execute_result",
          "data": {
            "text/plain": [
              "[['hello', 'there', 'welcome'],\n",
              " [3, 2, 6],\n",
              " ['about you', 'i love python', 'we are great @ learning']]"
            ]
          },
          "metadata": {},
          "execution_count": 3
        }
      ],
      "source": [
        "# lists\n",
        "# '[]' represents a list\n",
        "\n",
        "word_list = [\"i\",\"am\", \"awake\"]\n",
        "\n",
        "two_lists = [[1,2,3,4,5], [9.3,5.4, 3.2, 23, 2.1]]\n",
        "\n",
        "mixed_type_list = [['hello','there','welcome'], [3,2,6], ['about you', 'i love python', 'we are great @ learning']]\n",
        "\n",
        "# print(two_lists)\n",
        "# print(mixed_type_list)\n",
        "mixed_type_list"
      ]
    },
    {
      "cell_type": "code",
      "execution_count": null,
      "metadata": {
        "colab": {
          "base_uri": "https://localhost:8080/"
        },
        "id": "yMCT7Gaf8I1i",
        "outputId": "cbbb86b5-758c-48b5-9290-8741e14fd19e"
      },
      "outputs": [
        {
          "output_type": "stream",
          "name": "stdout",
          "text": [
            "C - Redo!\n"
          ]
        }
      ],
      "source": [
        "# variables with logic\n",
        "\n",
        "test_score = 65\n",
        "if test_score > 84:\n",
        "  print(\"A - Yay!\")\n",
        "elif (test_score <= 84):\n",
        "  if (test_score <=65):\n",
        "    print (\"C - Redo!\")\n",
        "  else:\n",
        "    print(\"B - Passed!\")"
      ]
    },
    {
      "cell_type": "code",
      "execution_count": null,
      "metadata": {
        "colab": {
          "base_uri": "https://localhost:8080/"
        },
        "id": "Rb3POCdr8c8x",
        "outputId": "31b95c6a-17fd-4b0d-877e-35078f924627"
      },
      "outputs": [
        {
          "output_type": "stream",
          "name": "stdout",
          "text": [
            "1  is less than 10\n",
            "2  is less than 10\n",
            "3  is less than 10\n",
            "4  is less than 10\n",
            "5  is less than 10\n",
            "6  is less than 10\n",
            "7  is less than 10\n",
            "8  is less than 10\n",
            "9  is less than 10\n",
            "10  is now 10\n"
          ]
        }
      ],
      "source": [
        "# loops with lists\n",
        "# while loops, for loops, range() loops\n",
        "\n",
        "mylist = ['tomato','lettuce','bread','avocado']\n",
        "\n",
        "x = 1\n",
        "while (x < 10):\n",
        "  print(x, \" is less than 10\")\n",
        "  x = x+1\n",
        "print(x, \" is now 10\")\n",
        "\n",
        "##########\n",
        "\n",
        "# for i in range(1,len(mylist)): # range() is a method and len()\n",
        "#   print(mylist[i])\n",
        "\n",
        "# why do we have no TOMATO??   we have no tomato because the range starts from\n",
        "# 1 and list elements are labeled starting with 0 index"
      ]
    },
    {
      "cell_type": "code",
      "execution_count": null,
      "metadata": {
        "colab": {
          "base_uri": "https://localhost:8080/"
        },
        "id": "P4qtgkPwCtKu",
        "outputId": "24ba20e4-d10f-4c7b-b514-088d80f9b74c"
      },
      "outputs": [
        {
          "output_type": "stream",
          "name": "stdout",
          "text": [
            "tomato\n",
            "lettuce\n",
            "bread\n",
            "avocado\n"
          ]
        }
      ],
      "source": [
        "for list_thing in range(0,4):\n",
        "  print(mylist[list_thing])"
      ]
    },
    {
      "cell_type": "markdown",
      "metadata": {
        "id": "eEACqZ6FFw_V"
      },
      "source": [
        "# Pandas"
      ]
    },
    {
      "cell_type": "markdown",
      "metadata": {
        "id": "PsDXeDiDF1Jo"
      },
      "source": [
        "Dataframes, aka excel sheets, google sheets, Numbers app for Mac users, allow us to easily understand and manipulate data sets.\n",
        "\n",
        "- 1 Row = record\n",
        "- 1 Column = attribute\n",
        "- 1 cell = value\n",
        "\n",
        "- convention to use \"df\" as dataframe or aka excel sheet"
      ]
    },
    {
      "cell_type": "code",
      "execution_count": null,
      "metadata": {
        "colab": {
          "base_uri": "https://localhost:8080/"
        },
        "id": "x5TFKhrgGxuq",
        "outputId": "c0186456-2e24-4eac-982b-2a9007cafdfd"
      },
      "outputs": [
        {
          "output_type": "stream",
          "name": "stdout",
          "text": [
            "<class 'pandas.core.frame.DataFrame'>\n",
            "Index: 0 entries\n",
            "Empty DataFrame\n"
          ]
        }
      ],
      "source": [
        "# create a new dataframe\n",
        "import pandas as pd\n",
        "\n",
        "new_df = pd.DataFrame()\n",
        "\n",
        "new_df.info()"
      ]
    },
    {
      "cell_type": "code",
      "execution_count": null,
      "metadata": {
        "id": "0MCwegjNGJkm"
      },
      "outputs": [],
      "source": [
        "# get your data from Vega data, a popular repository made available for everyone\n",
        "# that contains 20 something sets of data.\n",
        "\n",
        "import pandas as pd\n",
        "from vega_datasets import data\n",
        "\n",
        "data.list_datasets() # what data sets are in vega_datasets?\n",
        "# len(data.list_datasets()) # how many was that?\n",
        "\n",
        "df = data.stocks()\n",
        "# df"
      ]
    },
    {
      "cell_type": "markdown",
      "metadata": {
        "id": "_CjmmJkHV8RQ"
      },
      "source": [
        "## Looking at your data (aka data discovery)\n",
        "\n",
        "Things you want to do with your data after getting it into a dataframe:\n",
        "\n",
        "1. Look at it! 👁\n",
        "- What type of data do you have?\n",
        "- what are the statistics of the columns that have numbers only or are an integer/float type?\n",
        "- what are the unique values in a column like \"gender\"?\n",
        "-  do you  have any blanks? what are the number of blanks do you have for each column?\n",
        "2. \"Clean\" it! 🧼\n",
        "- are there columns that are the wrong type?  if yes, then change them!\n",
        "- figure out what you want to do with the blanks? you can drop it, fill it with a fixed value, fill it with the value before or after it?"
      ]
    },
    {
      "cell_type": "code",
      "execution_count": null,
      "metadata": {
        "colab": {
          "base_uri": "https://localhost:8080/",
          "height": 206
        },
        "id": "y1lxZ4P8V4A_",
        "outputId": "802327d7-3565-485e-8e60-7f1937b9cacc"
      },
      "outputs": [
        {
          "output_type": "execute_result",
          "data": {
            "text/plain": [
              "                        Name  Miles_per_Gallon  Cylinders  Displacement  \\\n",
              "0  chevrolet chevelle malibu              18.0          8         307.0   \n",
              "1          buick skylark 320              15.0          8         350.0   \n",
              "2         plymouth satellite              18.0          8         318.0   \n",
              "3              amc rebel sst              16.0          8         304.0   \n",
              "4                ford torino              17.0          8         302.0   \n",
              "\n",
              "   Horsepower  Weight_in_lbs  Acceleration       Year Origin  \n",
              "0       130.0           3504          12.0 1970-01-01    USA  \n",
              "1       165.0           3693          11.5 1970-01-01    USA  \n",
              "2       150.0           3436          11.0 1970-01-01    USA  \n",
              "3       150.0           3433          12.0 1970-01-01    USA  \n",
              "4       140.0           3449          10.5 1970-01-01    USA  "
            ],
            "text/html": [
              "\n",
              "  <div id=\"df-1f11d1f0-55df-41fe-95df-93dae14156d9\" class=\"colab-df-container\">\n",
              "    <div>\n",
              "<style scoped>\n",
              "    .dataframe tbody tr th:only-of-type {\n",
              "        vertical-align: middle;\n",
              "    }\n",
              "\n",
              "    .dataframe tbody tr th {\n",
              "        vertical-align: top;\n",
              "    }\n",
              "\n",
              "    .dataframe thead th {\n",
              "        text-align: right;\n",
              "    }\n",
              "</style>\n",
              "<table border=\"1\" class=\"dataframe\">\n",
              "  <thead>\n",
              "    <tr style=\"text-align: right;\">\n",
              "      <th></th>\n",
              "      <th>Name</th>\n",
              "      <th>Miles_per_Gallon</th>\n",
              "      <th>Cylinders</th>\n",
              "      <th>Displacement</th>\n",
              "      <th>Horsepower</th>\n",
              "      <th>Weight_in_lbs</th>\n",
              "      <th>Acceleration</th>\n",
              "      <th>Year</th>\n",
              "      <th>Origin</th>\n",
              "    </tr>\n",
              "  </thead>\n",
              "  <tbody>\n",
              "    <tr>\n",
              "      <th>0</th>\n",
              "      <td>chevrolet chevelle malibu</td>\n",
              "      <td>18.0</td>\n",
              "      <td>8</td>\n",
              "      <td>307.0</td>\n",
              "      <td>130.0</td>\n",
              "      <td>3504</td>\n",
              "      <td>12.0</td>\n",
              "      <td>1970-01-01</td>\n",
              "      <td>USA</td>\n",
              "    </tr>\n",
              "    <tr>\n",
              "      <th>1</th>\n",
              "      <td>buick skylark 320</td>\n",
              "      <td>15.0</td>\n",
              "      <td>8</td>\n",
              "      <td>350.0</td>\n",
              "      <td>165.0</td>\n",
              "      <td>3693</td>\n",
              "      <td>11.5</td>\n",
              "      <td>1970-01-01</td>\n",
              "      <td>USA</td>\n",
              "    </tr>\n",
              "    <tr>\n",
              "      <th>2</th>\n",
              "      <td>plymouth satellite</td>\n",
              "      <td>18.0</td>\n",
              "      <td>8</td>\n",
              "      <td>318.0</td>\n",
              "      <td>150.0</td>\n",
              "      <td>3436</td>\n",
              "      <td>11.0</td>\n",
              "      <td>1970-01-01</td>\n",
              "      <td>USA</td>\n",
              "    </tr>\n",
              "    <tr>\n",
              "      <th>3</th>\n",
              "      <td>amc rebel sst</td>\n",
              "      <td>16.0</td>\n",
              "      <td>8</td>\n",
              "      <td>304.0</td>\n",
              "      <td>150.0</td>\n",
              "      <td>3433</td>\n",
              "      <td>12.0</td>\n",
              "      <td>1970-01-01</td>\n",
              "      <td>USA</td>\n",
              "    </tr>\n",
              "    <tr>\n",
              "      <th>4</th>\n",
              "      <td>ford torino</td>\n",
              "      <td>17.0</td>\n",
              "      <td>8</td>\n",
              "      <td>302.0</td>\n",
              "      <td>140.0</td>\n",
              "      <td>3449</td>\n",
              "      <td>10.5</td>\n",
              "      <td>1970-01-01</td>\n",
              "      <td>USA</td>\n",
              "    </tr>\n",
              "  </tbody>\n",
              "</table>\n",
              "</div>\n",
              "    <div class=\"colab-df-buttons\">\n",
              "\n",
              "  <div class=\"colab-df-container\">\n",
              "    <button class=\"colab-df-convert\" onclick=\"convertToInteractive('df-1f11d1f0-55df-41fe-95df-93dae14156d9')\"\n",
              "            title=\"Convert this dataframe to an interactive table.\"\n",
              "            style=\"display:none;\">\n",
              "\n",
              "  <svg xmlns=\"http://www.w3.org/2000/svg\" height=\"24px\" viewBox=\"0 -960 960 960\">\n",
              "    <path d=\"M120-120v-720h720v720H120Zm60-500h600v-160H180v160Zm220 220h160v-160H400v160Zm0 220h160v-160H400v160ZM180-400h160v-160H180v160Zm440 0h160v-160H620v160ZM180-180h160v-160H180v160Zm440 0h160v-160H620v160Z\"/>\n",
              "  </svg>\n",
              "    </button>\n",
              "\n",
              "  <style>\n",
              "    .colab-df-container {\n",
              "      display:flex;\n",
              "      gap: 12px;\n",
              "    }\n",
              "\n",
              "    .colab-df-convert {\n",
              "      background-color: #E8F0FE;\n",
              "      border: none;\n",
              "      border-radius: 50%;\n",
              "      cursor: pointer;\n",
              "      display: none;\n",
              "      fill: #1967D2;\n",
              "      height: 32px;\n",
              "      padding: 0 0 0 0;\n",
              "      width: 32px;\n",
              "    }\n",
              "\n",
              "    .colab-df-convert:hover {\n",
              "      background-color: #E2EBFA;\n",
              "      box-shadow: 0px 1px 2px rgba(60, 64, 67, 0.3), 0px 1px 3px 1px rgba(60, 64, 67, 0.15);\n",
              "      fill: #174EA6;\n",
              "    }\n",
              "\n",
              "    .colab-df-buttons div {\n",
              "      margin-bottom: 4px;\n",
              "    }\n",
              "\n",
              "    [theme=dark] .colab-df-convert {\n",
              "      background-color: #3B4455;\n",
              "      fill: #D2E3FC;\n",
              "    }\n",
              "\n",
              "    [theme=dark] .colab-df-convert:hover {\n",
              "      background-color: #434B5C;\n",
              "      box-shadow: 0px 1px 3px 1px rgba(0, 0, 0, 0.15);\n",
              "      filter: drop-shadow(0px 1px 2px rgba(0, 0, 0, 0.3));\n",
              "      fill: #FFFFFF;\n",
              "    }\n",
              "  </style>\n",
              "\n",
              "    <script>\n",
              "      const buttonEl =\n",
              "        document.querySelector('#df-1f11d1f0-55df-41fe-95df-93dae14156d9 button.colab-df-convert');\n",
              "      buttonEl.style.display =\n",
              "        google.colab.kernel.accessAllowed ? 'block' : 'none';\n",
              "\n",
              "      async function convertToInteractive(key) {\n",
              "        const element = document.querySelector('#df-1f11d1f0-55df-41fe-95df-93dae14156d9');\n",
              "        const dataTable =\n",
              "          await google.colab.kernel.invokeFunction('convertToInteractive',\n",
              "                                                    [key], {});\n",
              "        if (!dataTable) return;\n",
              "\n",
              "        const docLinkHtml = 'Like what you see? Visit the ' +\n",
              "          '<a target=\"_blank\" href=https://colab.research.google.com/notebooks/data_table.ipynb>data table notebook</a>'\n",
              "          + ' to learn more about interactive tables.';\n",
              "        element.innerHTML = '';\n",
              "        dataTable['output_type'] = 'display_data';\n",
              "        await google.colab.output.renderOutput(dataTable, element);\n",
              "        const docLink = document.createElement('div');\n",
              "        docLink.innerHTML = docLinkHtml;\n",
              "        element.appendChild(docLink);\n",
              "      }\n",
              "    </script>\n",
              "  </div>\n",
              "\n",
              "\n",
              "<div id=\"df-eab57965-2df9-4379-8fce-5fe535a62a3f\">\n",
              "  <button class=\"colab-df-quickchart\" onclick=\"quickchart('df-eab57965-2df9-4379-8fce-5fe535a62a3f')\"\n",
              "            title=\"Suggest charts\"\n",
              "            style=\"display:none;\">\n",
              "\n",
              "<svg xmlns=\"http://www.w3.org/2000/svg\" height=\"24px\"viewBox=\"0 0 24 24\"\n",
              "     width=\"24px\">\n",
              "    <g>\n",
              "        <path d=\"M19 3H5c-1.1 0-2 .9-2 2v14c0 1.1.9 2 2 2h14c1.1 0 2-.9 2-2V5c0-1.1-.9-2-2-2zM9 17H7v-7h2v7zm4 0h-2V7h2v10zm4 0h-2v-4h2v4z\"/>\n",
              "    </g>\n",
              "</svg>\n",
              "  </button>\n",
              "\n",
              "<style>\n",
              "  .colab-df-quickchart {\n",
              "      --bg-color: #E8F0FE;\n",
              "      --fill-color: #1967D2;\n",
              "      --hover-bg-color: #E2EBFA;\n",
              "      --hover-fill-color: #174EA6;\n",
              "      --disabled-fill-color: #AAA;\n",
              "      --disabled-bg-color: #DDD;\n",
              "  }\n",
              "\n",
              "  [theme=dark] .colab-df-quickchart {\n",
              "      --bg-color: #3B4455;\n",
              "      --fill-color: #D2E3FC;\n",
              "      --hover-bg-color: #434B5C;\n",
              "      --hover-fill-color: #FFFFFF;\n",
              "      --disabled-bg-color: #3B4455;\n",
              "      --disabled-fill-color: #666;\n",
              "  }\n",
              "\n",
              "  .colab-df-quickchart {\n",
              "    background-color: var(--bg-color);\n",
              "    border: none;\n",
              "    border-radius: 50%;\n",
              "    cursor: pointer;\n",
              "    display: none;\n",
              "    fill: var(--fill-color);\n",
              "    height: 32px;\n",
              "    padding: 0;\n",
              "    width: 32px;\n",
              "  }\n",
              "\n",
              "  .colab-df-quickchart:hover {\n",
              "    background-color: var(--hover-bg-color);\n",
              "    box-shadow: 0 1px 2px rgba(60, 64, 67, 0.3), 0 1px 3px 1px rgba(60, 64, 67, 0.15);\n",
              "    fill: var(--button-hover-fill-color);\n",
              "  }\n",
              "\n",
              "  .colab-df-quickchart-complete:disabled,\n",
              "  .colab-df-quickchart-complete:disabled:hover {\n",
              "    background-color: var(--disabled-bg-color);\n",
              "    fill: var(--disabled-fill-color);\n",
              "    box-shadow: none;\n",
              "  }\n",
              "\n",
              "  .colab-df-spinner {\n",
              "    border: 2px solid var(--fill-color);\n",
              "    border-color: transparent;\n",
              "    border-bottom-color: var(--fill-color);\n",
              "    animation:\n",
              "      spin 1s steps(1) infinite;\n",
              "  }\n",
              "\n",
              "  @keyframes spin {\n",
              "    0% {\n",
              "      border-color: transparent;\n",
              "      border-bottom-color: var(--fill-color);\n",
              "      border-left-color: var(--fill-color);\n",
              "    }\n",
              "    20% {\n",
              "      border-color: transparent;\n",
              "      border-left-color: var(--fill-color);\n",
              "      border-top-color: var(--fill-color);\n",
              "    }\n",
              "    30% {\n",
              "      border-color: transparent;\n",
              "      border-left-color: var(--fill-color);\n",
              "      border-top-color: var(--fill-color);\n",
              "      border-right-color: var(--fill-color);\n",
              "    }\n",
              "    40% {\n",
              "      border-color: transparent;\n",
              "      border-right-color: var(--fill-color);\n",
              "      border-top-color: var(--fill-color);\n",
              "    }\n",
              "    60% {\n",
              "      border-color: transparent;\n",
              "      border-right-color: var(--fill-color);\n",
              "    }\n",
              "    80% {\n",
              "      border-color: transparent;\n",
              "      border-right-color: var(--fill-color);\n",
              "      border-bottom-color: var(--fill-color);\n",
              "    }\n",
              "    90% {\n",
              "      border-color: transparent;\n",
              "      border-bottom-color: var(--fill-color);\n",
              "    }\n",
              "  }\n",
              "</style>\n",
              "\n",
              "  <script>\n",
              "    async function quickchart(key) {\n",
              "      const quickchartButtonEl =\n",
              "        document.querySelector('#' + key + ' button');\n",
              "      quickchartButtonEl.disabled = true;  // To prevent multiple clicks.\n",
              "      quickchartButtonEl.classList.add('colab-df-spinner');\n",
              "      try {\n",
              "        const charts = await google.colab.kernel.invokeFunction(\n",
              "            'suggestCharts', [key], {});\n",
              "      } catch (error) {\n",
              "        console.error('Error during call to suggestCharts:', error);\n",
              "      }\n",
              "      quickchartButtonEl.classList.remove('colab-df-spinner');\n",
              "      quickchartButtonEl.classList.add('colab-df-quickchart-complete');\n",
              "    }\n",
              "    (() => {\n",
              "      let quickchartButtonEl =\n",
              "        document.querySelector('#df-eab57965-2df9-4379-8fce-5fe535a62a3f button');\n",
              "      quickchartButtonEl.style.display =\n",
              "        google.colab.kernel.accessAllowed ? 'block' : 'none';\n",
              "    })();\n",
              "  </script>\n",
              "</div>\n",
              "\n",
              "    </div>\n",
              "  </div>\n"
            ]
          },
          "metadata": {},
          "execution_count": 11
        }
      ],
      "source": [
        "import pandas as pd\n",
        "from vega_datasets import data\n",
        "\n",
        "# let's use the cars data set from vega_datasets\n",
        "df = data.cars()\n",
        "\n",
        "df.head() # looking at the first few records,\n",
        "# notice on the right most side there are icons that say \"convert this dataframe into an interactive table\" and \"suggested charts\""
      ]
    },
    {
      "cell_type": "code",
      "execution_count": null,
      "metadata": {
        "id": "XqS83avCWU-9",
        "colab": {
          "base_uri": "https://localhost:8080/"
        },
        "outputId": "2bbe27fc-8ade-45b9-e7b2-0ad4e4639829"
      },
      "outputs": [
        {
          "output_type": "execute_result",
          "data": {
            "text/plain": [
              "Name                        object\n",
              "Miles_per_Gallon           float64\n",
              "Cylinders                    int64\n",
              "Displacement               float64\n",
              "Horsepower                 float64\n",
              "Weight_in_lbs                int64\n",
              "Acceleration               float64\n",
              "Year                datetime64[ns]\n",
              "Origin                      object\n",
              "dtype: object"
            ]
          },
          "metadata": {},
          "execution_count": 12
        }
      ],
      "source": [
        "# Data discovery\n",
        "\n",
        "# df.shape # Things without a () are called attributes, the are part of the df package\n",
        "# df.info() # Things with a () are called methods. they are not part of the package but the df package can use it with some input\n",
        "# df.size # how many cells are there in total or number of rows times number of columns\n",
        "\n",
        "\n",
        "df.dtypes # what are the data type of each column, but df.info() will give you column name, column type, and memory needs and dtypes!\n",
        "\n",
        "# len(df.columns) # how many columns do we have again?\n",
        "# df.columns # getting a list of column names\n",
        "\n",
        "\n",
        "# df.head # look at the first few rows of your dataframe. df.tail gives the last few rows of your dataframe\n",
        "# df.tail(7) # adding a number tells head attribute to return back a specific number of rows from the bottom of the dataframe\n"
      ]
    },
    {
      "cell_type": "code",
      "execution_count": null,
      "metadata": {
        "id": "AW4JvBmXW3ZB",
        "colab": {
          "base_uri": "https://localhost:8080/"
        },
        "outputId": "464adb6b-6fb7-4ce9-a38e-1f660487f3fb"
      },
      "outputs": [
        {
          "output_type": "execute_result",
          "data": {
            "text/plain": [
              "14"
            ]
          },
          "metadata": {},
          "execution_count": 35
        }
      ],
      "source": [
        "\n",
        "df.isna().sum() # total number of na-s or NaNs by column\n",
        "df.isnull().sum() # total number of nulls by column\n",
        "df.isnull().sum().sum() # total number of nulls combined\n"
      ]
    },
    {
      "cell_type": "markdown",
      "metadata": {
        "id": "9zfx5u6pV0Dv"
      },
      "source": [
        "## Cleaning your data\n",
        "\n",
        "2. \"Clean\" it! 🧼\n",
        "- are there columns that are the wrong type?  if yes, then change them!\n",
        "- figure out what you want to do with the blanks? you can drop it, fill it with a fixed value, fill it with the value before or after it?"
      ]
    },
    {
      "cell_type": "code",
      "execution_count": null,
      "metadata": {
        "id": "D48KJrcfXXiT"
      },
      "outputs": [],
      "source": [
        "# LET'S CLEAN!\n",
        "\n",
        "# Step 1: change headers to be callable in code.\n",
        "\n",
        "# replace all spaces in headers into '_'\n",
        "df.columns = df.columns.str.replace(' ', '_')\n",
        "\n",
        "# change every letter into lower case for all values and headers\n",
        "df.columns = df.columns.str.lower()\n",
        "\n",
        "# change columns to the right type\n",
        "df.dtypes # check the column types. Does it match with what you think is the data type?"
      ]
    },
    {
      "cell_type": "code",
      "execution_count": null,
      "metadata": {
        "id": "nTxdUPWTXiar",
        "colab": {
          "base_uri": "https://localhost:8080/"
        },
        "outputId": "ea6555a4-5001-464b-b708-60529186555e"
      },
      "outputs": [
        {
          "output_type": "stream",
          "name": "stdout",
          "text": [
            "numerical columns: Index(['miles_per_gallon', 'cylinders', 'displacement', 'horsepower',\n",
            "       'weight_in_lbs', 'acceleration', 'year'],\n",
            "      dtype='object')  and categorical columns:  Index(['name', 'origin'], dtype='object')\n"
          ]
        }
      ],
      "source": [
        "# many analyses also make a copy of the data and then\n",
        "# separate out the numerical from the categorical columns\n",
        "\n",
        "# separate categorical and numerical features\n",
        "num_df = df.select_dtypes(include=['int64','float64', 'datetime64'])\n",
        "cat_df = df.select_dtypes(exclude=['int64','float64', 'datetime64'])\n",
        "\n",
        "print('numerical columns:', num_df.columns, ' and categorical columns: ',cat_df.columns)"
      ]
    },
    {
      "cell_type": "markdown",
      "metadata": {
        "id": "U1zA-w4fF23S"
      },
      "source": [
        "## Frequently used ways to getting data\n",
        "\n",
        "... but before you can use a dataframe you'll need data from ..."
      ]
    },
    {
      "cell_type": "code",
      "source": [
        "import pandas as pd\n",
        "from google.colab import drive\n",
        "\n",
        "# drive.mount('/gdrive')\n",
        "# %cd /gdrive\n",
        "\n",
        "\n",
        "drive.mount('gdrive/', force_remount=True)\n",
        "# # %ls\n",
        "\n",
        "# # take a look at this menu with a little file symbol on the leftside, middle of page on colab screen\n",
        "%cd gdrive/MyDrive/Cs 06 Winter Data Viz 2024/Outside_data\n",
        "%ls\n",
        "\n"
      ],
      "metadata": {
        "colab": {
          "base_uri": "https://localhost:8080/"
        },
        "id": "26YG8oTjHoqX",
        "outputId": "bdedb141-cb78-4fe1-87a7-7a1f68cf7a0c"
      },
      "execution_count": null,
      "outputs": [
        {
          "output_type": "stream",
          "name": "stdout",
          "text": [
            "Mounted at gdrive/\n",
            "/content/gdrive/MyDrive/Cs 06 Winter Data Viz 2024/Outside_data\n",
            "amenities.csv\n"
          ]
        }
      ]
    },
    {
      "cell_type": "code",
      "execution_count": null,
      "metadata": {
        "id": "tmzpKmby8c3e"
      },
      "outputs": [],
      "source": [
        "# get your data from a URL\n",
        "\n",
        "import pandas as pd\n",
        "\n",
        "url = \"https://raw.githubusercontent.com/anjaleeDS/CS06/main/Netflix%20TV%20Shows%20and%20Movies.csv\"\n",
        "df = pd.read_csv(url)\n",
        "\n",
        "df.head(3)"
      ]
    },
    {
      "cell_type": "code",
      "execution_count": null,
      "metadata": {
        "colab": {
          "base_uri": "https://localhost:8080/",
          "height": 143
        },
        "id": "OviOMV3UFwch",
        "outputId": "9a2721e5-f407-4bcc-f79c-ae014b9c8b8b"
      },
      "outputs": [
        {
          "output_type": "execute_result",
          "data": {
            "text/plain": [
              "             0        1        2     3\n",
              "0   unified_id    month  hot_tub  pool\n",
              "1  AIR10052559  2022-12        1     0\n",
              "2  AIR10178668  2022-12        0     0"
            ],
            "text/html": [
              "\n",
              "  <div id=\"df-b5b61495-0eb3-460c-b465-3bfefd645611\" class=\"colab-df-container\">\n",
              "    <div>\n",
              "<style scoped>\n",
              "    .dataframe tbody tr th:only-of-type {\n",
              "        vertical-align: middle;\n",
              "    }\n",
              "\n",
              "    .dataframe tbody tr th {\n",
              "        vertical-align: top;\n",
              "    }\n",
              "\n",
              "    .dataframe thead th {\n",
              "        text-align: right;\n",
              "    }\n",
              "</style>\n",
              "<table border=\"1\" class=\"dataframe\">\n",
              "  <thead>\n",
              "    <tr style=\"text-align: right;\">\n",
              "      <th></th>\n",
              "      <th>0</th>\n",
              "      <th>1</th>\n",
              "      <th>2</th>\n",
              "      <th>3</th>\n",
              "    </tr>\n",
              "  </thead>\n",
              "  <tbody>\n",
              "    <tr>\n",
              "      <th>0</th>\n",
              "      <td>unified_id</td>\n",
              "      <td>month</td>\n",
              "      <td>hot_tub</td>\n",
              "      <td>pool</td>\n",
              "    </tr>\n",
              "    <tr>\n",
              "      <th>1</th>\n",
              "      <td>AIR10052559</td>\n",
              "      <td>2022-12</td>\n",
              "      <td>1</td>\n",
              "      <td>0</td>\n",
              "    </tr>\n",
              "    <tr>\n",
              "      <th>2</th>\n",
              "      <td>AIR10178668</td>\n",
              "      <td>2022-12</td>\n",
              "      <td>0</td>\n",
              "      <td>0</td>\n",
              "    </tr>\n",
              "  </tbody>\n",
              "</table>\n",
              "</div>\n",
              "    <div class=\"colab-df-buttons\">\n",
              "\n",
              "  <div class=\"colab-df-container\">\n",
              "    <button class=\"colab-df-convert\" onclick=\"convertToInteractive('df-b5b61495-0eb3-460c-b465-3bfefd645611')\"\n",
              "            title=\"Convert this dataframe to an interactive table.\"\n",
              "            style=\"display:none;\">\n",
              "\n",
              "  <svg xmlns=\"http://www.w3.org/2000/svg\" height=\"24px\" viewBox=\"0 -960 960 960\">\n",
              "    <path d=\"M120-120v-720h720v720H120Zm60-500h600v-160H180v160Zm220 220h160v-160H400v160Zm0 220h160v-160H400v160ZM180-400h160v-160H180v160Zm440 0h160v-160H620v160ZM180-180h160v-160H180v160Zm440 0h160v-160H620v160Z\"/>\n",
              "  </svg>\n",
              "    </button>\n",
              "\n",
              "  <style>\n",
              "    .colab-df-container {\n",
              "      display:flex;\n",
              "      gap: 12px;\n",
              "    }\n",
              "\n",
              "    .colab-df-convert {\n",
              "      background-color: #E8F0FE;\n",
              "      border: none;\n",
              "      border-radius: 50%;\n",
              "      cursor: pointer;\n",
              "      display: none;\n",
              "      fill: #1967D2;\n",
              "      height: 32px;\n",
              "      padding: 0 0 0 0;\n",
              "      width: 32px;\n",
              "    }\n",
              "\n",
              "    .colab-df-convert:hover {\n",
              "      background-color: #E2EBFA;\n",
              "      box-shadow: 0px 1px 2px rgba(60, 64, 67, 0.3), 0px 1px 3px 1px rgba(60, 64, 67, 0.15);\n",
              "      fill: #174EA6;\n",
              "    }\n",
              "\n",
              "    .colab-df-buttons div {\n",
              "      margin-bottom: 4px;\n",
              "    }\n",
              "\n",
              "    [theme=dark] .colab-df-convert {\n",
              "      background-color: #3B4455;\n",
              "      fill: #D2E3FC;\n",
              "    }\n",
              "\n",
              "    [theme=dark] .colab-df-convert:hover {\n",
              "      background-color: #434B5C;\n",
              "      box-shadow: 0px 1px 3px 1px rgba(0, 0, 0, 0.15);\n",
              "      filter: drop-shadow(0px 1px 2px rgba(0, 0, 0, 0.3));\n",
              "      fill: #FFFFFF;\n",
              "    }\n",
              "  </style>\n",
              "\n",
              "    <script>\n",
              "      const buttonEl =\n",
              "        document.querySelector('#df-b5b61495-0eb3-460c-b465-3bfefd645611 button.colab-df-convert');\n",
              "      buttonEl.style.display =\n",
              "        google.colab.kernel.accessAllowed ? 'block' : 'none';\n",
              "\n",
              "      async function convertToInteractive(key) {\n",
              "        const element = document.querySelector('#df-b5b61495-0eb3-460c-b465-3bfefd645611');\n",
              "        const dataTable =\n",
              "          await google.colab.kernel.invokeFunction('convertToInteractive',\n",
              "                                                    [key], {});\n",
              "        if (!dataTable) return;\n",
              "\n",
              "        const docLinkHtml = 'Like what you see? Visit the ' +\n",
              "          '<a target=\"_blank\" href=https://colab.research.google.com/notebooks/data_table.ipynb>data table notebook</a>'\n",
              "          + ' to learn more about interactive tables.';\n",
              "        element.innerHTML = '';\n",
              "        dataTable['output_type'] = 'display_data';\n",
              "        await google.colab.output.renderOutput(dataTable, element);\n",
              "        const docLink = document.createElement('div');\n",
              "        docLink.innerHTML = docLinkHtml;\n",
              "        element.appendChild(docLink);\n",
              "      }\n",
              "    </script>\n",
              "  </div>\n",
              "\n",
              "\n",
              "<div id=\"df-91b41204-ad72-4021-b264-46fae38e050f\">\n",
              "  <button class=\"colab-df-quickchart\" onclick=\"quickchart('df-91b41204-ad72-4021-b264-46fae38e050f')\"\n",
              "            title=\"Suggest charts\"\n",
              "            style=\"display:none;\">\n",
              "\n",
              "<svg xmlns=\"http://www.w3.org/2000/svg\" height=\"24px\"viewBox=\"0 0 24 24\"\n",
              "     width=\"24px\">\n",
              "    <g>\n",
              "        <path d=\"M19 3H5c-1.1 0-2 .9-2 2v14c0 1.1.9 2 2 2h14c1.1 0 2-.9 2-2V5c0-1.1-.9-2-2-2zM9 17H7v-7h2v7zm4 0h-2V7h2v10zm4 0h-2v-4h2v4z\"/>\n",
              "    </g>\n",
              "</svg>\n",
              "  </button>\n",
              "\n",
              "<style>\n",
              "  .colab-df-quickchart {\n",
              "      --bg-color: #E8F0FE;\n",
              "      --fill-color: #1967D2;\n",
              "      --hover-bg-color: #E2EBFA;\n",
              "      --hover-fill-color: #174EA6;\n",
              "      --disabled-fill-color: #AAA;\n",
              "      --disabled-bg-color: #DDD;\n",
              "  }\n",
              "\n",
              "  [theme=dark] .colab-df-quickchart {\n",
              "      --bg-color: #3B4455;\n",
              "      --fill-color: #D2E3FC;\n",
              "      --hover-bg-color: #434B5C;\n",
              "      --hover-fill-color: #FFFFFF;\n",
              "      --disabled-bg-color: #3B4455;\n",
              "      --disabled-fill-color: #666;\n",
              "  }\n",
              "\n",
              "  .colab-df-quickchart {\n",
              "    background-color: var(--bg-color);\n",
              "    border: none;\n",
              "    border-radius: 50%;\n",
              "    cursor: pointer;\n",
              "    display: none;\n",
              "    fill: var(--fill-color);\n",
              "    height: 32px;\n",
              "    padding: 0;\n",
              "    width: 32px;\n",
              "  }\n",
              "\n",
              "  .colab-df-quickchart:hover {\n",
              "    background-color: var(--hover-bg-color);\n",
              "    box-shadow: 0 1px 2px rgba(60, 64, 67, 0.3), 0 1px 3px 1px rgba(60, 64, 67, 0.15);\n",
              "    fill: var(--button-hover-fill-color);\n",
              "  }\n",
              "\n",
              "  .colab-df-quickchart-complete:disabled,\n",
              "  .colab-df-quickchart-complete:disabled:hover {\n",
              "    background-color: var(--disabled-bg-color);\n",
              "    fill: var(--disabled-fill-color);\n",
              "    box-shadow: none;\n",
              "  }\n",
              "\n",
              "  .colab-df-spinner {\n",
              "    border: 2px solid var(--fill-color);\n",
              "    border-color: transparent;\n",
              "    border-bottom-color: var(--fill-color);\n",
              "    animation:\n",
              "      spin 1s steps(1) infinite;\n",
              "  }\n",
              "\n",
              "  @keyframes spin {\n",
              "    0% {\n",
              "      border-color: transparent;\n",
              "      border-bottom-color: var(--fill-color);\n",
              "      border-left-color: var(--fill-color);\n",
              "    }\n",
              "    20% {\n",
              "      border-color: transparent;\n",
              "      border-left-color: var(--fill-color);\n",
              "      border-top-color: var(--fill-color);\n",
              "    }\n",
              "    30% {\n",
              "      border-color: transparent;\n",
              "      border-left-color: var(--fill-color);\n",
              "      border-top-color: var(--fill-color);\n",
              "      border-right-color: var(--fill-color);\n",
              "    }\n",
              "    40% {\n",
              "      border-color: transparent;\n",
              "      border-right-color: var(--fill-color);\n",
              "      border-top-color: var(--fill-color);\n",
              "    }\n",
              "    60% {\n",
              "      border-color: transparent;\n",
              "      border-right-color: var(--fill-color);\n",
              "    }\n",
              "    80% {\n",
              "      border-color: transparent;\n",
              "      border-right-color: var(--fill-color);\n",
              "      border-bottom-color: var(--fill-color);\n",
              "    }\n",
              "    90% {\n",
              "      border-color: transparent;\n",
              "      border-bottom-color: var(--fill-color);\n",
              "    }\n",
              "  }\n",
              "</style>\n",
              "\n",
              "  <script>\n",
              "    async function quickchart(key) {\n",
              "      const quickchartButtonEl =\n",
              "        document.querySelector('#' + key + ' button');\n",
              "      quickchartButtonEl.disabled = true;  // To prevent multiple clicks.\n",
              "      quickchartButtonEl.classList.add('colab-df-spinner');\n",
              "      try {\n",
              "        const charts = await google.colab.kernel.invokeFunction(\n",
              "            'suggestCharts', [key], {});\n",
              "      } catch (error) {\n",
              "        console.error('Error during call to suggestCharts:', error);\n",
              "      }\n",
              "      quickchartButtonEl.classList.remove('colab-df-spinner');\n",
              "      quickchartButtonEl.classList.add('colab-df-quickchart-complete');\n",
              "    }\n",
              "    (() => {\n",
              "      let quickchartButtonEl =\n",
              "        document.querySelector('#df-91b41204-ad72-4021-b264-46fae38e050f button');\n",
              "      quickchartButtonEl.style.display =\n",
              "        google.colab.kernel.accessAllowed ? 'block' : 'none';\n",
              "    })();\n",
              "  </script>\n",
              "</div>\n",
              "\n",
              "    </div>\n",
              "  </div>\n"
            ]
          },
          "metadata": {},
          "execution_count": 6
        }
      ],
      "source": [
        "# get your data from GSHEET ANYWHERE in your google drive\n",
        "# this is ddirectly from google's codesnippet icon on the lower left\n",
        "# icon looks like this: < >\n",
        "\n",
        "import pandas as pd\n",
        "from google.colab import auth\n",
        "auth.authenticate_user()\n",
        "\n",
        "import gspread\n",
        "from google.auth import default\n",
        "creds, _ = default()\n",
        "\n",
        "gc = gspread.authorize(creds)\n",
        "\n",
        "worksheet = gc.open('amenities').sheet1\n",
        "\n",
        "# get_all_values gives a list of rows.\n",
        "rows = worksheet.get_all_values()\n",
        "# print(rows)\n",
        "\n",
        "# Convert to a DataFrame and render.\n",
        "my_gsheet = pd.DataFrame.from_records(rows)\n",
        "my_gsheet.head(3)"
      ]
    },
    {
      "cell_type": "code",
      "execution_count": null,
      "metadata": {
        "id": "ybJhgThULdUU"
      },
      "outputs": [],
      "source": [
        "# open a CSV file, NOT A GSHEET FILE in your google drive\n",
        "# also from the code snippet icon on the lower left\n",
        "import pandas as pd\n",
        "from google.colab import drive\n",
        "\n",
        "drive.mount('gdrive/', force_remount=True)\n",
        "# %ls\n",
        "\n",
        "# take a look at this menu with a little file symbol on the leftside, middle of page on colab screen\n",
        "%cd gdrive/MyDrive/Cs 06 Winter Data Viz 2024/covid dataset\n",
        "%ls\n"
      ]
    },
    {
      "cell_type": "code",
      "source": [
        "\n",
        "filename = \"Mobile_Food_Facility_Permit_20240123.csv\"\n",
        "df = pd.read_csv(filename)\n",
        "df.head()"
      ],
      "metadata": {
        "id": "t1ElOVhG7Azv"
      },
      "execution_count": null,
      "outputs": []
    },
    {
      "cell_type": "code",
      "execution_count": null,
      "metadata": {
        "colab": {
          "base_uri": "https://localhost:8080/"
        },
        "id": "qEuOFdmgMEp4",
        "outputId": "8c2b006a-78bf-4db7-df90-9ec086d0dc56"
      },
      "outputs": [
        {
          "output_type": "stream",
          "name": "stdout",
          "text": [
            "Mounted at /gdrive\n",
            "/gdrive/MyDrive/Cs 06 Winter Data Viz 2024/covid dataset\n"
          ]
        }
      ],
      "source": [
        "# open a file downloaded from Kaggle.com or any other dataset source that doesn't have a\n",
        "# URL that has the data already in a *.csv file format\n",
        "\n",
        "# NOT IN COLAB download file onto your computer, unzip file, and then upload it to google drive\n",
        "\n",
        "import pandas as pd\n",
        "from google.colab import drive\n",
        "\n",
        "drive.mount(\"/gdrive\", force_remount=True)\n",
        "# drive.mount('/gdrive')\n",
        "%cd /gdrive/MyDrive/Cs 06 Winter Data Viz 2024/covid dataset/\n",
        "%ls\n"
      ]
    },
    {
      "cell_type": "code",
      "source": [
        "\n",
        "df = pd.read_csv(\"cdc_vaccines_distributed_administered_by_jurisdiction.csv\")\n",
        "df.head(4)\n",
        "#(original files from https://www.kaggle.com/datasets/thedevastator/cdc-covid-19-vaccine-tracker?select=cdc_vaccines_distributed_administered_national_timeseries.csv)"
      ],
      "metadata": {
        "id": "7yIosLC67FzP"
      },
      "execution_count": null,
      "outputs": []
    },
    {
      "cell_type": "markdown",
      "metadata": {
        "id": "9ksgMi4JXiJd"
      },
      "source": [
        "# Scatterplots preview"
      ]
    },
    {
      "cell_type": "markdown",
      "metadata": {
        "id": "3rvVjd2zYnTC"
      },
      "source": [
        "references by plot types:\n",
        "\n",
        "[matplotlib](https://matplotlib.org/stable/plot_types/index.html)\n",
        "\n",
        "[seaborn]()"
      ]
    },
    {
      "cell_type": "code",
      "execution_count": null,
      "metadata": {
        "colab": {
          "base_uri": "https://localhost:8080/",
          "height": 430
        },
        "id": "Jxu4OF8sX8FX",
        "outputId": "d7af8a6b-acd9-426c-ca2e-2b43e640d75f"
      },
      "outputs": [
        {
          "output_type": "display_data",
          "data": {
            "text/plain": [
              "<Figure size 640x480 with 1 Axes>"
            ],
            "image/png": "[encoded data removed]"
          },
          "metadata": {}
        }
      ],
      "source": [
        "import pandas as pd\n",
        "from vega_datasets import data\n",
        "import matplotlib.pyplot as plt\n",
        "\n",
        "# get data\n",
        "df_iris = data.iris()\n",
        "\n",
        "# create a plot sheet\n",
        "fig, ax = plt.subplots()\n",
        "\n",
        "# ask to plot a scatter plot with the following columns from the dataframe\n",
        "ax.scatter(x=df_iris['petalLength'], y=df_iris['petalWidth'])\n",
        "\n",
        "\n",
        "plt.show()\n",
        "# import seaborn as sns"
      ]
    }
  ],
  "metadata": {
    "colab": {
      "provenance": [],
      "authorship_tag": "ABX9TyNNf7nOJvPb+9neYvhfFINb",
      "include_colab_link": true
    },
    "kernelspec": {
      "display_name": "Python 3",
      "name": "python3"
    },
    "language_info": {
      "name": "python"
    }
  },
  "nbformat": 4,
  "nbformat_minor": 0
}