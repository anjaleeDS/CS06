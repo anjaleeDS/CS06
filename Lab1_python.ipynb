{
  "nbformat": 4,
  "nbformat_minor": 0,
  "metadata": {
    "colab": {
      "provenance": [],
      "authorship_tag": "ABX9TyPRLSIb54jG1U68JNfoaLRn",
      "include_colab_link": true
    },
    "kernelspec": {
      "name": "python3",
      "display_name": "Python 3"
    },
    "language_info": {
      "name": "python"
    }
  },
  "cells": [
    {
      "cell_type": "markdown",
      "metadata": {
        "id": "view-in-github",
        "colab_type": "text"
      },
      "source": [
        "<a href=\"https://colab.research.google.com/github/anjaleeDS/CS06/blob/main/Lab1_python.ipynb\" target=\"_parent\"><img src=\"https://colab.research.google.com/assets/colab-badge.svg\" alt=\"Open In Colab\"/></a>"
      ]
    },
    {
      "cell_type": "markdown",
      "source": [
        "#Python 101"
      ],
      "metadata": {
        "id": "aur9-gvv79Nf"
      }
    },
    {
      "cell_type": "markdown",
      "source": [
        "Python, was developed by Guido van Rossum and released around 1991.\n",
        "\n",
        "It's variables can represent many things:\n",
        "\n",
        "1. Number and words\n",
        "2. Excel sheet formatted data (pandas)\n",
        "3. Functions and Objects (python is OOP)\n"
      ],
      "metadata": {
        "id": "cDxCZbEC8BoU"
      }
    },
    {
      "cell_type": "code",
      "source": [
        "# numerics\n",
        "\n",
        "a = 3\n",
        "b = 29\n",
        "c = a+b\n",
        "c"
      ],
      "metadata": {
        "id": "d0CTZ5uP8HEc",
        "colab": {
          "base_uri": "https://localhost:8080/"
        },
        "outputId": "c71877af-fc28-420b-9cbe-afb169535769"
      },
      "execution_count": null,
      "outputs": [
        {
          "output_type": "execute_result",
          "data": {
            "text/plain": [
              "32"
            ]
          },
          "metadata": {},
          "execution_count": 1
        }
      ]
    },
    {
      "cell_type": "code",
      "execution_count": null,
      "metadata": {
        "id": "ijZ24uqu7d4C",
        "colab": {
          "base_uri": "https://localhost:8080/",
          "height": 35
        },
        "outputId": "28ffd951-e182-4db9-b5f8-50b7b5c8dbad"
      },
      "outputs": [
        {
          "output_type": "execute_result",
          "data": {
            "text/plain": [
              "'Gasline is cheap'"
            ],
            "application/vnd.google.colaboratory.intrinsic+json": {
              "type": "string"
            }
          },
          "metadata": {},
          "execution_count": 3
        }
      ],
      "source": [
        "# words\n",
        "\n",
        "x = \"Gasline is \"\n",
        "y = \"cheap\"\n",
        "x+y"
      ]
    },
    {
      "cell_type": "code",
      "source": [
        "# lists\n",
        "# '[]' represents a list\n",
        "\n",
        "word_list = [\"i\",\"am\", \"awake\"]\n",
        "\n",
        "two_lists = [[1,2,3,4,5], [9.3,5.4, 3.2, 23, 2.1]]\n",
        "\n",
        "mixed_type_list = [['hello','there','welcome'], [3,2,6], ['about you', 'i love python', 'we are great @ learning']]\n",
        "\n",
        "# print(two_lists)\n",
        "print(mixed_type_list)"
      ],
      "metadata": {
        "id": "oqcCBiAN8hPi",
        "colab": {
          "base_uri": "https://localhost:8080/"
        },
        "outputId": "928b57bd-3290-4e76-f98c-dc2b0282cbae"
      },
      "execution_count": null,
      "outputs": [
        {
          "output_type": "stream",
          "name": "stdout",
          "text": [
            "[['hello', 'there', 'welcome'], [3, 2, 6], ['about you', 'i love python', 'we are great @ learning']]\n"
          ]
        }
      ]
    },
    {
      "cell_type": "code",
      "source": [
        "# variables with logic\n",
        "\n",
        "test_score = 65\n",
        "if test_score > 84:\n",
        "  print(\"A - Yay!\")\n",
        "elif (test_score <= 84):\n",
        "  if (test_score <=65):\n",
        "    print (\"C - Redo!\")\n",
        "  else:\n",
        "    print(\"B - Passed!\")"
      ],
      "metadata": {
        "id": "yMCT7Gaf8I1i",
        "colab": {
          "base_uri": "https://localhost:8080/"
        },
        "outputId": "b159ac28-5103-4d96-c7a3-796e5ae9f2b9"
      },
      "execution_count": null,
      "outputs": [
        {
          "output_type": "stream",
          "name": "stdout",
          "text": [
            "C - Redo!\n"
          ]
        }
      ]
    },
    {
      "cell_type": "code",
      "source": [
        "# loops with lists\n",
        "# while loops, for loops, range() loops\n",
        "\n",
        "mylist = ['tomato','lettuce','bread','avocado']\n",
        "\n",
        "# x = 1\n",
        "# while (x < 10):\n",
        "#   print(x, \" is less than 10\")\n",
        "#   x = x+1\n",
        "# print(x, \" is now 10\")\n",
        "\n",
        "##########\n",
        "\n",
        "for i in range(1,len(mylist)): # range() is a method and len()\n",
        "  print(mylist[i])\n",
        "\n",
        "# why do we have no TOMATO??   we have no tomato because the range starts from\n",
        "# 1 and list elements are labeled starting with 0 index"
      ],
      "metadata": {
        "id": "Rb3POCdr8c8x",
        "colab": {
          "base_uri": "https://localhost:8080/"
        },
        "outputId": "9e852cf2-3627-477e-e1ab-d958c310fc2e"
      },
      "execution_count": null,
      "outputs": [
        {
          "output_type": "stream",
          "name": "stdout",
          "text": [
            "lettuce\n",
            "bread\n",
            "avocado\n"
          ]
        }
      ]
    },
    {
      "cell_type": "code",
      "source": [
        "for list_thing in range(0,4):\n",
        "  print(mylist[list_thing])"
      ],
      "metadata": {
        "colab": {
          "base_uri": "https://localhost:8080/"
        },
        "id": "P4qtgkPwCtKu",
        "outputId": "77a1aba6-751f-411f-e026-24bbf54549fe"
      },
      "execution_count": null,
      "outputs": [
        {
          "output_type": "stream",
          "name": "stdout",
          "text": [
            "tomato\n",
            "lettuce\n",
            "bread\n",
            "avocado\n"
          ]
        }
      ]
    },
    {
      "cell_type": "markdown",
      "source": [
        "# Pandas"
      ],
      "metadata": {
        "id": "eEACqZ6FFw_V"
      }
    },
    {
      "cell_type": "markdown",
      "source": [
        "Dataframes, aka excel sheets, google sheets, Numbers app for Mac users, allow us to easily understand and manipulate data sets.\n",
        "\n",
        "- 1 Row = record\n",
        "- 1 Column = attribute\n",
        "- 1 cell = value\n",
        "\n",
        "- convention to use \"df\" as dataframe or aka excel sheet"
      ],
      "metadata": {
        "id": "PsDXeDiDF1Jo"
      }
    },
    {
      "cell_type": "code",
      "source": [
        "# create a new dataframe\n",
        "import pandas as pd\n",
        "\n",
        "new_df = pd.DataFrame()\n",
        "\n",
        "new_df.info()"
      ],
      "metadata": {
        "colab": {
          "base_uri": "https://localhost:8080/"
        },
        "id": "x5TFKhrgGxuq",
        "outputId": "e564dcac-2de6-4de4-92e8-069079b0027b"
      },
      "execution_count": null,
      "outputs": [
        {
          "output_type": "stream",
          "name": "stdout",
          "text": [
            "<class 'pandas.core.frame.DataFrame'>\n",
            "Index: 0 entries\n",
            "Empty DataFrame\n"
          ]
        }
      ]
    },
    {
      "cell_type": "markdown",
      "source": [
        "## Getting data\n",
        "\n",
        "... but before you can use a dataframe you'll need data from ..."
      ],
      "metadata": {
        "id": "U1zA-w4fF23S"
      }
    },
    {
      "cell_type": "code",
      "source": [
        "# get your data from Vega data, a popular repository made available for everyone\n",
        "# that contains 20 something sets of data.\n",
        "\n",
        "import pandas as pd\n",
        "from vega_datasets import data\n",
        "\n",
        "data.list_datasets() # what data sets are in vega_datasets?\n",
        "len(data.list_datasets()) # how many was that?\n",
        "\n",
        "df = data.cars()\n",
        "df"
      ],
      "metadata": {
        "id": "0MCwegjNGJkm"
      },
      "execution_count": null,
      "outputs": []
    },
    {
      "cell_type": "code",
      "source": [
        "# get your data from a URL\n",
        "\n",
        "import pandas as pd\n",
        "\n",
        "url = \"https://raw.githubusercontent.com/anjaleeDS/cs06/main/shopping_trends_updated.csv\"\n",
        "df = pd.read_csv(url)\n",
        "\n",
        "df"
      ],
      "metadata": {
        "id": "tmzpKmby8c3e"
      },
      "execution_count": null,
      "outputs": []
    },
    {
      "cell_type": "code",
      "source": [
        "# get your data from your google drive\n",
        "# this is ddirectly from google's codesnippet icon on the lower left\n",
        "# icon looks like this: < >\n",
        "\n",
        "import pandas as pd\n",
        "from google.colab import auth\n",
        "auth.authenticate_user()\n",
        "\n",
        "import gspread\n",
        "from google.auth import default\n",
        "creds, _ = default()\n",
        "\n",
        "gc = gspread.authorize(creds)\n",
        "\n",
        "worksheet = gc.open('Copy of BooksDataset').sheet1\n",
        "\n",
        "# get_all_values gives a list of rows.\n",
        "rows = worksheet.get_all_values()\n",
        "print(rows)\n",
        "\n",
        "# Convert to a DataFrame and render.\n",
        "pd.DataFrame.from_records(rows)\n"
      ],
      "metadata": {
        "id": "OviOMV3UFwch"
      },
      "execution_count": null,
      "outputs": []
    },
    {
      "cell_type": "code",
      "source": [
        "# open a file in your google drive\n",
        "# also from the code snippet icon on the lower left\n",
        "import pandas as pd\n",
        "from google.colab import drive\n",
        "drive.mount('/gdrive')\n",
        "%cd MyDrive/Cs 06 Winter Data Viz 2024/\n",
        "\n",
        "filename = \"BooksDataset.csv\"\n",
        "df = pd.read_csv(filename)\n",
        "df"
      ],
      "metadata": {
        "colab": {
          "base_uri": "https://localhost:8080/"
        },
        "id": "ybJhgThULdUU",
        "outputId": "bf8070b1-75f4-4859-ac4e-ba7d7356f2a1"
      },
      "execution_count": null,
      "outputs": [
        {
          "output_type": "stream",
          "name": "stdout",
          "text": [
            "Drive already mounted at /gdrive; to attempt to forcibly remount, call drive.mount(\"/gdrive\", force_remount=True).\n",
            "/gdrive\n",
            "\u001b[0m\u001b[01;34mMyDrive\u001b[0m/\n"
          ]
        }
      ]
    },
    {
      "cell_type": "code",
      "source": [
        "# open a file downloaded from Kaggle.com or any other dataset source that doesn't have a\n",
        "# URL that has the data already in a *.csv file format\n",
        "\n",
        "# NOT IN COLAB download file onto your computer, unzip file, and then upload it to google drive\n",
        "\n",
        "import pandas as pd\n",
        "from google.colab import drive\n",
        "\n",
        "drive.mount(\"/gdrive\", force_remount=True)\n",
        "# drive.mount('/gdrive')\n",
        "%cd /gdrive/MyDrive/Cs 06 Winter Data Viz 2024/covid dataset/\n",
        "\n",
        "%ls\n",
        "\n",
        "#(original files from https://www.kaggle.com/datasets/thedevastator/cdc-covid-19-vaccine-tracker?select=cdc_vaccines_distributed_administered_national_timeseries.csv)"
      ],
      "metadata": {
        "colab": {
          "base_uri": "https://localhost:8080/"
        },
        "id": "qEuOFdmgMEp4",
        "outputId": "ff855501-3035-4702-bec2-96af715e3ffc"
      },
      "execution_count": null,
      "outputs": [
        {
          "output_type": "stream",
          "name": "stdout",
          "text": [
            "Mounted at /gdrive\n",
            "/gdrive/MyDrive/Cs 06 Winter Data Viz 2024/covid dataset\n",
            "cdc_vaccines_distributed_administered_by_jurisdiction.csv\n",
            "cdc_vaccines_distributed_administered_by_jurisdiction_timeseries.csv\n",
            "cdc_vaccines_distributed_administered_national_timeseries.csv\n"
          ]
        }
      ]
    },
    {
      "cell_type": "markdown",
      "source": [
        "## Looking at your data (aka data discovery)\n",
        "\n",
        "Things you want to do with your data after getting it into a dataframe:\n",
        "\n",
        "1. Look at it! 👁\n",
        "- What type of data do you have?\n",
        "- what are the statistics of the columns that have numbers only or are an integer/float type?\n",
        "- what are the unique values in a column like \"gender\"?\n",
        "-  do you  have any blanks? what are the number of blanks do you have for each column?\n",
        "2. \"Clean\" it! 🧼\n",
        "- are there columns that are the wrong type?  if yes, then change them!\n",
        "- figure out what you want to do with the blanks? you can drop it, fill it with a fixed value, fill it with the value before or after it?"
      ],
      "metadata": {
        "id": "_CjmmJkHV8RQ"
      }
    },
    {
      "cell_type": "code",
      "source": [
        "import pandas as pd\n",
        "from vega_datasets import data\n",
        "\n",
        "# let's use the cars data set from vega_datasets\n",
        "df = data.cars()\n",
        "\n",
        "df.head() # looking at the first few records,\n",
        "# notice on the right most side there are icons that say \"convert this dataframe into an interactive table\" and \"suggested charts\""
      ],
      "metadata": {
        "id": "y1lxZ4P8V4A_"
      },
      "execution_count": null,
      "outputs": []
    },
    {
      "cell_type": "code",
      "source": [
        "# Data discovery\n",
        "\n",
        "df.shape # Things without a () are called attributes, the are part of the df package\n",
        "df.info() # Things with a () are called methods. they are not part of the package but the df package can use it with some input\n",
        "df.size # how many cells are there in total or number of rows times number of columns\n",
        "\n",
        "\n",
        "df.dtypes # what are the data type of each column, but df.info() will give you column name, column type, and memory needs and dtypes!\n",
        "\n",
        "len(df.columns) # how many columns do we have again?\n",
        "df.columns # getting a list of column names\n",
        "\n",
        "\n",
        "df.head # look at the first few rows of your dataframe. df.tail gives the last few rows of your dataframe\n",
        "df.tail(20) # adding a number tells head attribute to return back a specific number of rows from the bottom of the dataframe\n",
        "\n",
        "\n",
        "df.isna().sum() # total number of na-s or NaNs by column\n",
        "df.isnull().sum() # total number of nulls by column\n",
        "df.isnull().sum().sum() # total number of nulls combined\n"
      ],
      "metadata": {
        "id": "XqS83avCWU-9"
      },
      "execution_count": null,
      "outputs": []
    },
    {
      "cell_type": "code",
      "source": [
        "\n",
        "df.isna().sum() # total number of na-s or NaNs by column\n",
        "df.isnull().sum() # total number of nulls by column\n",
        "df.isnull().sum().sum() # total number of nulls combined\n"
      ],
      "metadata": {
        "id": "AW4JvBmXW3ZB"
      },
      "execution_count": null,
      "outputs": []
    },
    {
      "cell_type": "markdown",
      "source": [
        "## Cleaning your data\n",
        "\n",
        "2. \"Clean\" it! 🧼\n",
        "- are there columns that are the wrong type?  if yes, then change them!\n",
        "- figure out what you want to do with the blanks? you can drop it, fill it with a fixed value, fill it with the value before or after it?"
      ],
      "metadata": {
        "id": "9zfx5u6pV0Dv"
      }
    },
    {
      "cell_type": "code",
      "source": [
        "# LET'S CLEAN!\n",
        "\n",
        "# Step 1: change headers to be callable in code.\n",
        "\n",
        "# replace all spaces in headers into '_'\n",
        "df.columns = df.columns.str.replace(' ', '_')\n",
        "\n",
        "# change every letter into lower case for all values and headers\n",
        "df.columns = df.columns.str.lower()\n",
        "df = df.applymap(lambda x: x.lower())\n",
        "\n",
        "# change columns to the right type\n",
        "df.dtypes # check the column types. Does it match with what you think is the data type?"
      ],
      "metadata": {
        "id": "D48KJrcfXXiT"
      },
      "execution_count": null,
      "outputs": []
    },
    {
      "cell_type": "code",
      "source": [
        "# many analyses also make a copy of the data and then\n",
        "# separate out the numerical from the categorical columns\n",
        "\n",
        "# separate categorical and numerical features\n",
        "num_df = df.select_dtypes(include=['int64','float64'])\n",
        "cat_df = df.select_dtypes(exclude=['int64','float64'])"
      ],
      "metadata": {
        "id": "nTxdUPWTXiar"
      },
      "execution_count": null,
      "outputs": []
    },
    {
      "cell_type": "markdown",
      "source": [
        "# Scatterplots preview"
      ],
      "metadata": {
        "id": "9ksgMi4JXiJd"
      }
    },
    {
      "cell_type": "code",
      "source": [
        "import pandas as pd\n",
        "from vega_datasets import data\n",
        "import matplotlib.pyplot as plt\n",
        "\n",
        "# get data\n",
        "df = data.iris()\n",
        "\n",
        "# create a plot sheet\n",
        "fig, ax = plt.subplots()\n",
        "\n",
        "# ask to plot a scatter plot with the following columns from the dataframe\n",
        "ax.scatter(x=df['petalLength'], y=df['petalWidth'])\n",
        "\n",
        "\n",
        "plt.show()\n",
        "# import seaborn as sns"
      ],
      "metadata": {
        "colab": {
          "base_uri": "https://localhost:8080/",
          "height": 430
        },
        "id": "Jxu4OF8sX8FX",
        "outputId": "c334f37e-968f-45f7-8ef6-c408713a6b0e"
      },
      "execution_count": null,
      "outputs": [
        {
          "output_type": "display_data",
          "data": {
            "text/plain": [
              "<Figure size 640x480 with 1 Axes>"
            ],
            "image/png": "[encoded data removed]"
          },
          "metadata": {}
        }
      ]
    },
    {
      "cell_type": "markdown",
      "source": [
        "references by plot types:\n",
        "\n",
        "[matplotlib](https://matplotlib.org/stable/plot_types/index.html)\n",
        "\n",
        "[seaborn]()"
      ],
      "metadata": {
        "id": "3rvVjd2zYnTC"
      }
    }
  ]
}